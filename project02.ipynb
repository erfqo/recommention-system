{
 "cells": [
  {
   "cell_type": "markdown",
   "id": "e8ce1a55",
   "metadata": {},
   "source": [
    "Region Import Extentions\n"
   ]
  },
  {
   "cell_type": "code",
   "execution_count": 1,
   "id": "74901281",
   "metadata": {},
   "outputs": [],
   "source": [
    "# region import extentions\n",
    "import pandas as pd\n",
    "# endregion"
   ]
  },
  {
   "cell_type": "markdown",
   "id": "ca7c2097",
   "metadata": {},
   "source": [
    "Region Read Data\n"
   ]
  },
  {
   "cell_type": "code",
   "execution_count": 35,
   "id": "89b845ed",
   "metadata": {},
   "outputs": [],
   "source": [
    "#  region read data\n",
    "df = pd.read_csv(\"sell.csv\")\n",
    "df[\"product\"] = df[\"product\"].astype(str).str.lower().str.strip()\n",
    "# endregion"
   ]
  },
  {
   "cell_type": "markdown",
   "id": "468aa50c",
   "metadata": {},
   "source": [
    "Region Making Costumers Matrix\n"
   ]
  },
  {
   "cell_type": "code",
   "execution_count": 36,
   "id": "c6e847a4",
   "metadata": {},
   "outputs": [
    {
     "name": "stdout",
     "output_type": "stream",
     "text": [
      "buy matrix : \n",
      "product   book  eraser  note  pen  pencil\n",
      "name                                     \n",
      "ali          1       0     1    0       0\n",
      "mohammad     1       0     1    0       0\n",
      "mohsen       0       0     0    1       1\n",
      "reza         1       1     0    1       0\n"
     ]
    }
   ],
   "source": [
    "# region making costumers matrix\n",
    "cross_df = pd.crosstab(df[\"name\"], df[\"product\"])\n",
    "cross_df.to_csv(\"cross.csv\")\n",
    "\n",
    "print(\"buy matrix : \")\n",
    "print(cross_df)\n",
    "# endregion"
   ]
  },
  {
   "cell_type": "markdown",
   "id": "806126b9",
   "metadata": {},
   "source": [
    "Region Functions\n"
   ]
  },
  {
   "cell_type": "code",
   "execution_count": 37,
   "id": "7becb52d",
   "metadata": {},
   "outputs": [],
   "source": [
    "# region functions\n",
    "def get_product_recommendations(customer_name, n_recommendations=3):\n",
    "    \n",
    "    try:\n",
    "\n",
    "        customer_products = set(cross_df.columns[cross_df.loc[customer_name] > 0])\n",
    "        \n",
    "        similar_customers = []\n",
    "        for product in customer_products:\n",
    "            buyers = set(cross_df[cross_df[product] > 0].index)\n",
    "            similar_customers.extend(buyers)\n",
    "        \n",
    "        \n",
    "        recommendations = {}\n",
    "        for sim_cust in similar_customers:\n",
    "            sim_products = set(cross_df.columns[cross_df.loc[sim_cust] > 0])\n",
    "            new_products = sim_products - customer_products\n",
    "            \n",
    "            for prod in new_products:\n",
    "                recommendations[prod] = recommendations.get(prod, 0) + 1\n",
    "        \n",
    "\n",
    "        sorted_recs = sorted(recommendations.items(), key=lambda x: x[1], reverse=True)\n",
    "        \n",
    "        return [prod for prod, count in sorted_recs[:n_recommendations]]\n",
    "    \n",
    "    except KeyError:\n",
    "        return f\"not found\"\n",
    "\n",
    "def get_customer_purchases(customer_name):\n",
    "   \n",
    "    try:\n",
    "        return list(cross_df.columns[cross_df.loc[customer_name] > 0])\n",
    "    except KeyError:\n",
    "        return f\"not found\"\n",
    "\n",
    "# endregion"
   ]
  },
  {
   "cell_type": "markdown",
   "id": "9bcb35a5",
   "metadata": {},
   "source": [
    "Region Return Sugestion\n"
   ]
  },
  {
   "cell_type": "code",
   "execution_count": 38,
   "id": "6d41676e",
   "metadata": {},
   "outputs": [
    {
     "name": "stdout",
     "output_type": "stream",
     "text": [
      "\\buyes ali : ['book', 'note']\n",
      "sugestion ali : ['pen', 'eraser']\n",
      "\n",
      "Sugestion For Byers:\n",
      "ali : buy : ['book', 'note']   ----->  sugestion: ['pen', 'eraser']\n",
      "mohammad : buy : ['book', 'note']   ----->  sugestion: ['pen', 'eraser']\n",
      "mohsen : buy : ['pen', 'pencil']   ----->  sugestion: ['book', 'eraser']\n",
      "reza : buy : ['book', 'eraser', 'pen']   ----->  sugestion: ['note', 'pencil']\n"
     ]
    }
   ],
   "source": [
    "# region return sugestion\n",
    "customer_name = input(\"inter coutumers name : \")  \n",
    "\n",
    "print(f\"\\\\buyes {customer_name} : {get_customer_purchases(customer_name)}\")\n",
    "print(f\"sugestion {customer_name} : {get_product_recommendations(customer_name)}\")\n",
    "\n",
    "print(\"\\nSugestion For Byers:\")\n",
    "for cust in cross_df.index[:5] :\n",
    "    print(f\"{cust} : buy : {get_customer_purchases(cust)}   ----->  sugestion: {get_product_recommendations(cust)}\")\n",
    "\n",
    "# endregion"
   ]
  }
 ],
 "metadata": {
  "kernelspec": {
   "display_name": "myenv",
   "language": "python",
   "name": "python3"
  },
  "language_info": {
   "codemirror_mode": {
    "name": "ipython",
    "version": 3
   },
   "file_extension": ".py",
   "mimetype": "text/x-python",
   "name": "python",
   "nbconvert_exporter": "python",
   "pygments_lexer": "ipython3",
   "version": "3.13.5"
  }
 },
 "nbformat": 4,
 "nbformat_minor": 5
}
